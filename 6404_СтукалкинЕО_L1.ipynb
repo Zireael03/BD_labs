{
  "cells": [
    {
      "cell_type": "markdown",
      "metadata": {
        "id": "UQHsGHLE9Ndo"
      },
      "source": [
        "# Установка JDK и spark, задание переменных окружения, подключение модулей"
      ]
    },
    {
      "cell_type": "code",
      "execution_count": null,
      "metadata": {
        "colab": {
          "background_save": true
        },
        "id": "ozT4M9ao0D4Q",
        "outputId": "cffee818-1963-4262-c11a-74c8a77925f3"
      },
      "outputs": [
        {
          "name": "stdout",
          "output_type": "stream",
          "text": [
            "\n",
            "gzip: stdin: unexpected end of file\n",
            "tar: Unexpected EOF in archive\n",
            "tar: Unexpected EOF in archive\n",
            "tar: Error is not recoverable: exiting now\n"
          ]
        }
      ],
      "source": [
        "!apt-get install openjdk-8-jdk-headless -qq > /dev/null\n",
        "!wget -q http://archive.apache.org/dist/spark/spark-3.1.1/spark-3.1.1-bin-hadoop3.2.tgz\n",
        "!tar xf spark-3.1.1-bin-hadoop3.2.tgz"
      ]
    },
    {
      "cell_type": "code",
      "execution_count": null,
      "metadata": {
        "id": "rlKfg15E0gSQ"
      },
      "outputs": [],
      "source": [
        "import os\n",
        "os.environ[\"JAVA_HOME\"] = \"/usr/lib/jvm/java-8-openjdk-amd64\"\n",
        "os.environ[\"SPARK_HOME\"] = \"/content/spark-3.1.1-bin-hadoop3.2\""
      ]
    },
    {
      "cell_type": "code",
      "execution_count": 1,
      "metadata": {
        "colab": {
          "base_uri": "https://localhost:8080/"
        },
        "id": "jGUwAjqy0jKE",
        "outputId": "2f7ad415-7f43-46e2-d118-970592e51647"
      },
      "outputs": [
        {
          "output_type": "stream",
          "name": "stdout",
          "text": [
            "Collecting findspark\n",
            "  Downloading findspark-2.0.1-py2.py3-none-any.whl.metadata (352 bytes)\n",
            "Downloading findspark-2.0.1-py2.py3-none-any.whl (4.4 kB)\n",
            "Installing collected packages: findspark\n",
            "Successfully installed findspark-2.0.1\n"
          ]
        }
      ],
      "source": [
        "!pip install findspark\n",
        "import findspark\n",
        "findspark.init()"
      ]
    },
    {
      "cell_type": "code",
      "execution_count": 3,
      "metadata": {
        "id": "VgIt224X0oeI"
      },
      "outputs": [],
      "source": [
        "from pyspark import SparkContext, SparkConf\n",
        "import pyspark.sql as sql\n",
        "from pyspark.sql import SparkSession\n",
        "from pyspark.sql.types import DoubleType\n",
        "from pyspark.sql.functions import udf, col, max, sum, countDistinct"
      ]
    },
    {
      "cell_type": "code",
      "execution_count": 5,
      "metadata": {
        "id": "rpxd2vBc0q3b"
      },
      "outputs": [],
      "source": [
        "spark = SparkSession \\\n",
        "    .builder \\\n",
        "    .appName(\"L1_BD\") \\\n",
        "    .getOrCreate()"
      ]
    },
    {
      "cell_type": "code",
      "execution_count": 7,
      "metadata": {
        "id": "CPVtdEQb000G"
      },
      "outputs": [],
      "source": [
        "import os\n",
        "data_path = os.path.join(os.curdir, \"data\")\n",
        "trips_path = os.path.join(\"trip.csv\")\n",
        "stations_path = os.path.join(\"station.csv\")"
      ]
    },
    {
      "cell_type": "code",
      "execution_count": 9,
      "metadata": {
        "id": "XtaZLTrM03uW",
        "colab": {
          "base_uri": "https://localhost:8080/"
        },
        "outputId": "5efeccf5-d504-4166-b9e1-442c23df3c58"
      },
      "outputs": [
        {
          "output_type": "stream",
          "name": "stdout",
          "text": [
            "Trips\n",
            "root\n",
            " |-- id: integer (nullable = true)\n",
            " |-- duration: integer (nullable = true)\n",
            " |-- start_date: timestamp (nullable = true)\n",
            " |-- start_station_name: string (nullable = true)\n",
            " |-- start_station_id: integer (nullable = true)\n",
            " |-- end_date: timestamp (nullable = true)\n",
            " |-- end_station_name: string (nullable = true)\n",
            " |-- end_station_id: integer (nullable = true)\n",
            " |-- bike_id: integer (nullable = true)\n",
            " |-- subscription_type: string (nullable = true)\n",
            " |-- zip_code: string (nullable = true)\n",
            "\n",
            "Stations\n",
            "root\n",
            " |-- id: integer (nullable = true)\n",
            " |-- name: string (nullable = true)\n",
            " |-- lat: double (nullable = true)\n",
            " |-- long: double (nullable = true)\n",
            " |-- dock_count: integer (nullable = true)\n",
            " |-- city: string (nullable = true)\n",
            " |-- installation_date: string (nullable = true)\n",
            "\n"
          ]
        }
      ],
      "source": [
        "trip_data = spark.read\\\n",
        ".option(\"header\", True)\\\n",
        ".option(\"inferSchema\", True)\\\n",
        ".option(\"timestampFormat\", 'M/d/y H:m')\\\n",
        ".csv(trips_path)\n",
        "\n",
        "print(\"Trips\")\n",
        "trip_data.printSchema()\n",
        "\n",
        "stations_data = spark.read\\\n",
        ".option(\"header\", True)\\\n",
        ".option(\"inferSchema\", True)\\\n",
        ".option(\"timestampFormat\", 'M/d/y H:m')\\\n",
        ".csv(stations_path)\n",
        "\n",
        "print(\"Stations\")\n",
        "stations_data.printSchema()"
      ]
    },
    {
      "cell_type": "markdown",
      "source": [
        "# Решите следующие задачи для данных велопарковок Сан-Франциско (trips.csv, stations.csv):\n",
        "1. Найти велосипед с максимальным временем пробега.\n",
        "2. Найти наибольшее геодезическое расстояние между станциями.\n",
        "3. Найти путь велосипеда с максимальным временем пробега через станции.\n",
        "4. Найти количество велосипедов в системе.\n",
        "5. Найти пользователей потративших на поездки более 3 часов."
      ],
      "metadata": {
        "id": "Nyb4kZH_M1o-"
      }
    },
    {
      "cell_type": "markdown",
      "source": [
        "# Задание №1"
      ],
      "metadata": {
        "id": "rQS7w6KKM2t1"
      }
    },
    {
      "cell_type": "code",
      "execution_count": 69,
      "metadata": {
        "id": "GuFymiEC-KBW",
        "colab": {
          "base_uri": "https://localhost:8080/"
        },
        "outputId": "3ee82d81-7bd4-4893-de41-63929d922354"
      },
      "outputs": [
        {
          "output_type": "stream",
          "name": "stdout",
          "text": [
            "Велосипед #535 с суммарным временем пробега  = 18611693.\n"
          ]
        }
      ],
      "source": [
        "# Группировка по id велосипеда и сумммирование пробега. после выстраивание по убыванию длительности\n",
        "bike_with_max_duration = trip_data.groupBy(\"bike_id\").agg(sum(col(\"duration\")).alias(\"total_trips_duration\"))\\\n",
        ".orderBy(col(\"total_trips_duration\").desc()).first()\n",
        "\n",
        "print(f\"Велосипед #{ bike_with_max_duration['bike_id'] } с суммарным временем пробега  = {bike_with_max_duration['total_trips_duration']}.\")"
      ]
    },
    {
      "cell_type": "markdown",
      "source": [
        "# Задание №2"
      ],
      "metadata": {
        "id": "4zhcZthSPGWF"
      }
    },
    {
      "cell_type": "code",
      "source": [
        "import math\n",
        "\n",
        "def geodesic_distance(lat1, lon1, lat2, lon2):\n",
        "    # Радиус Земли в километрах\n",
        "    R = 6371.0\n",
        "    lat1, lat2 = math.radians(lat1),  math.radians(lat2)\n",
        "\n",
        "    delta_lon = math.radians(lon2 - lon1)\n",
        "    delta_lat = lat2 - lat1\n",
        "\n",
        "    # Вычисление геодезического расстояния по формуле Хаверсина\n",
        "    a = math.sin(delta_lat / 2)**2 + math.cos(lat1) * math.cos(lat2) * math.sin(delta_lon / 2)**2\n",
        "    c = 2 * math.atan2(math.sqrt(a), math.sqrt(1 - a))\n",
        "    distance = R * c\n",
        "    return distance\n",
        "\n",
        "# Конвертация функции в pyspark.sql.functions.udf (user-defined function)\n",
        "geodesic_distance_udf = udf(geodesic_distance, DoubleType())\n",
        "\n",
        "# Объединение датасета станций с самим собой для получения всех возможных пар\n",
        "station_pairs = stations_data.alias(\"station1\").crossJoin(stations_data.alias(\"station2\"))\n",
        "\n",
        "# Вычисление расстояния для каждой пары станций с помощью объявленной ранее функции\n",
        "station_pairs_with_distance = station_pairs.withColumn(\n",
        "    \"geodesic_distance\",\n",
        "    geodesic_distance_udf(\n",
        "        col(\"station1.lat\"),\n",
        "        col(\"station1.long\"),\n",
        "        col(\"station2.lat\"),\n",
        "        col(\"station2.long\")\n",
        "    )\n",
        ")\n",
        "\n",
        "# Поиск максимального геодезического расстояния среди всех расстояний для каждой пары станций\n",
        "max_distance_stations = station_pairs_with_distance.sort(\"geodesic_distance\", ascending=False).first()\n",
        "# Задаём шаг, чтобы корректно вывести названия станций\n",
        "pair_step = len(stations_data.columns)\n",
        "first_station = max_distance_stations[max_distance_stations.index(max_distance_stations['name'])]\n",
        "second_station = max_distance_stations[max_distance_stations.index(max_distance_stations['name']) + pair_step]\n",
        "\n",
        "print(f\"Максимальное геодезическое расстояние между станциями равно {max_distance_stations['geodesic_distance']} километрам \\\n",
        "между станциями {first_station} и {second_station}. \")"
      ],
      "metadata": {
        "colab": {
          "base_uri": "https://localhost:8080/"
        },
        "id": "Mn9ueiyGPJSw",
        "outputId": "07b6e0c1-048e-49f1-a607-6f265e8c819f"
      },
      "execution_count": 48,
      "outputs": [
        {
          "output_type": "stream",
          "name": "stdout",
          "text": [
            "Максимальное геодезическое расстояние между станциями равно 69.92087595428244 километрам между станциями SJSU - San Salvador at 9th и Embarcadero at Sansome. \n"
          ]
        }
      ]
    },
    {
      "cell_type": "markdown",
      "source": [
        "# Задание №3"
      ],
      "metadata": {
        "id": "9fyQXSG8aIeC"
      }
    },
    {
      "cell_type": "code",
      "source": [
        "# ищем максимальный путь\n",
        "longest_trip = trip_data.sort(\"duration\", ascending=False).first()\n",
        "\n",
        "print(f\"Максимальный путь ({longest_trip['duration']}) велосипеда id={longest_trip['bike_id']} \\\n",
        "из станции {longest_trip['start_station_name']} на станцию {longest_trip['end_station_name']}.\")"
      ],
      "metadata": {
        "colab": {
          "base_uri": "https://localhost:8080/"
        },
        "id": "x8eGl-3laJzG",
        "outputId": "256cfd92-ee09-4bfa-e407-adf43332a459"
      },
      "execution_count": 67,
      "outputs": [
        {
          "output_type": "stream",
          "name": "stdout",
          "text": [
            "Максимальный путь (17270400) велосипеда id=535 из станции South Van Ness at Market на станцию 2nd at Folsom.\n"
          ]
        }
      ]
    },
    {
      "cell_type": "markdown",
      "source": [
        "# Задание №4"
      ],
      "metadata": {
        "id": "NLXVoakmcfQT"
      }
    },
    {
      "cell_type": "code",
      "source": [
        "# с помощью countDistinct считаем уникальные значения\n",
        "total_number_of_bikes = trip_data.select(countDistinct(\"bike_id\")).first()[0]\n",
        "print(f\"Общее число велосипедов в системе {total_number_of_bikes}.\")"
      ],
      "metadata": {
        "colab": {
          "base_uri": "https://localhost:8080/"
        },
        "id": "MV6-dxGXciea",
        "outputId": "6096414d-79c6-4ee5-bd0b-5be69ad9a705"
      },
      "execution_count": 68,
      "outputs": [
        {
          "output_type": "stream",
          "name": "stdout",
          "text": [
            "Общее число велосипедов в системе 700.\n"
          ]
        }
      ]
    },
    {
      "cell_type": "markdown",
      "source": [
        "# Задание №5"
      ],
      "metadata": {
        "id": "tlR6O0I0fMZ4"
      }
    },
    {
      "cell_type": "code",
      "source": [
        "# выведем данные отсортированные по айди, умножаем на 3600 для правильного сравнения\n",
        "strong_users = trip_data.groupBy(\"bike_id\").agg({\"duration\": \"sum\"}).filter(col(\"sum(duration)\") > 3* 3600)\\\n",
        ".orderBy(col(\"bike_id\"))\n",
        "strong_users.show()"
      ],
      "metadata": {
        "colab": {
          "base_uri": "https://localhost:8080/"
        },
        "id": "xOj24mMgfNmk",
        "outputId": "fd35dfa8-6972-402f-f32b-72f62735a3ea"
      },
      "execution_count": 84,
      "outputs": [
        {
          "output_type": "stream",
          "name": "stdout",
          "text": [
            "+-------+-------------+\n",
            "|bike_id|sum(duration)|\n",
            "+-------+-------------+\n",
            "|      9|       913730|\n",
            "|     10|       551314|\n",
            "|     11|       315011|\n",
            "|     12|       757912|\n",
            "|     13|       949523|\n",
            "|     14|       399114|\n",
            "|     15|       831149|\n",
            "|     16|      1334601|\n",
            "|     17|       509406|\n",
            "|     18|       500113|\n",
            "|     19|       543930|\n",
            "|     20|       263431|\n",
            "|     21|       282836|\n",
            "|     22|       936581|\n",
            "|     23|       420393|\n",
            "|     24|       293533|\n",
            "|     25|       453322|\n",
            "|     26|       236064|\n",
            "|     27|       404937|\n",
            "|     28|       342587|\n",
            "+-------+-------------+\n",
            "only showing top 20 rows\n",
            "\n"
          ]
        }
      ]
    }
  ],
  "metadata": {
    "colab": {
      "provenance": []
    },
    "kernelspec": {
      "display_name": "Python 3",
      "name": "python3"
    },
    "language_info": {
      "name": "python"
    }
  },
  "nbformat": 4,
  "nbformat_minor": 0
}