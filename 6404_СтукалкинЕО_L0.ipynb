{
  "nbformat": 4,
  "nbformat_minor": 0,
  "metadata": {
    "colab": {
      "provenance": []
    },
    "kernelspec": {
      "name": "python3",
      "display_name": "Python 3"
    }
  },
  "cells": [
    {
      "cell_type": "markdown",
      "metadata": {
        "id": "82OvPKEiEqjc"
      },
      "source": [
        "# Введение в MapReduce модель на Python\n"
      ]
    },
    {
      "cell_type": "code",
      "metadata": {
        "id": "JQ2cvXLjICmI"
      },
      "source": [
        "from typing import NamedTuple # requires python 3.6+\n",
        "from typing import Iterator"
      ],
      "execution_count": null,
      "outputs": []
    },
    {
      "cell_type": "code",
      "metadata": {
        "id": "yjPHumVwEyEg"
      },
      "source": [
        "def MAP(_, row:NamedTuple):\n",
        "  if (row.gender == 'female'):\n",
        "    yield (row.age, row)\n",
        "\n",
        "def REDUCE(age:str, rows:Iterator[NamedTuple]):\n",
        "  sum = 0\n",
        "  count = 0\n",
        "  for row in rows:\n",
        "    sum += row.social_contacts\n",
        "    count += 1\n",
        "  if (count > 0):\n",
        "    yield (age, sum/count)\n",
        "  else:\n",
        "    yield (age, 0)"
      ],
      "execution_count": null,
      "outputs": []
    },
    {
      "cell_type": "markdown",
      "metadata": {
        "id": "vBKMgpG_ilaZ"
      },
      "source": [
        "Модель элемента данных"
      ]
    },
    {
      "cell_type": "code",
      "metadata": {
        "id": "Rv-XIjhTJPx3"
      },
      "source": [
        "class User(NamedTuple):\n",
        "  id: int\n",
        "  age: str\n",
        "  social_contacts: int\n",
        "  gender: str"
      ],
      "execution_count": null,
      "outputs": []
    },
    {
      "cell_type": "code",
      "metadata": {
        "id": "5KV0Ze2vQgu5"
      },
      "source": [
        "input_collection = [\n",
        "    User(id=0, age=55, gender='male', social_contacts=20),\n",
        "    User(id=1, age=25, gender='female', social_contacts=240),\n",
        "    User(id=2, age=25, gender='female', social_contacts=500),\n",
        "    User(id=3, age=33, gender='female', social_contacts=800)\n",
        "]"
      ],
      "execution_count": null,
      "outputs": []
    },
    {
      "cell_type": "markdown",
      "metadata": {
        "id": "YFeqzyZxZIFZ"
      },
      "source": [
        "Функция RECORDREADER моделирует чтение элементов с диска или по сети."
      ]
    },
    {
      "cell_type": "code",
      "metadata": {
        "id": "S5HR4E_GQoMJ"
      },
      "source": [
        "def RECORDREADER():\n",
        "  return [(u.id, u) for u in input_collection]"
      ],
      "execution_count": null,
      "outputs": []
    },
    {
      "cell_type": "code",
      "metadata": {
        "id": "NeEoWla-ROUy",
        "colab": {
          "base_uri": "https://localhost:8080/"
        },
        "outputId": "4b2fd635-2dda-45de-a375-649301d39a71"
      },
      "source": [
        "list(RECORDREADER())"
      ],
      "execution_count": null,
      "outputs": [
        {
          "output_type": "execute_result",
          "data": {
            "text/plain": [
              "[(0, User(id=0, age=55, social_contacts=20, gender='male')),\n",
              " (1, User(id=1, age=25, social_contacts=240, gender='female')),\n",
              " (2, User(id=2, age=25, social_contacts=500, gender='female')),\n",
              " (3, User(id=3, age=33, social_contacts=800, gender='female'))]"
            ]
          },
          "metadata": {},
          "execution_count": 7
        }
      ]
    },
    {
      "cell_type": "code",
      "metadata": {
        "id": "YB8orgPSZs8M"
      },
      "source": [
        "def flatten(nested_iterable):\n",
        "  for iterable in nested_iterable:\n",
        "    for element in iterable:\n",
        "      yield element"
      ],
      "execution_count": null,
      "outputs": []
    },
    {
      "cell_type": "code",
      "metadata": {
        "id": "74oyvDLaRmd5",
        "colab": {
          "base_uri": "https://localhost:8080/"
        },
        "outputId": "582446f4-7bf8-48d4-c26e-d4496a6a88b6"
      },
      "source": [
        "map_output = flatten(map(lambda x: MAP(*x), RECORDREADER()))\n",
        "map_output = list(map_output) # materialize\n",
        "map_output"
      ],
      "execution_count": null,
      "outputs": [
        {
          "output_type": "execute_result",
          "data": {
            "text/plain": [
              "[(25, User(id=1, age=25, social_contacts=240, gender='female')),\n",
              " (25, User(id=2, age=25, social_contacts=500, gender='female')),\n",
              " (33, User(id=3, age=33, social_contacts=800, gender='female'))]"
            ]
          },
          "metadata": {},
          "execution_count": 9
        }
      ]
    },
    {
      "cell_type": "code",
      "metadata": {
        "id": "8ncYDJ3-VzDn"
      },
      "source": [
        "def groupbykey(iterable):\n",
        "  t = {}\n",
        "  for (k2, v2) in iterable:\n",
        "    t[k2] = t.get(k2, []) + [v2]\n",
        "  return t.items()"
      ],
      "execution_count": null,
      "outputs": []
    },
    {
      "cell_type": "code",
      "metadata": {
        "id": "cKzY_6COWOA2",
        "colab": {
          "base_uri": "https://localhost:8080/"
        },
        "outputId": "9a60f8fe-4510-419f-9cad-a7c0eb082591"
      },
      "source": [
        "shuffle_output = groupbykey(map_output)\n",
        "shuffle_output = list(shuffle_output)\n",
        "shuffle_output"
      ],
      "execution_count": null,
      "outputs": [
        {
          "output_type": "execute_result",
          "data": {
            "text/plain": [
              "[(25,\n",
              "  [User(id=1, age=25, social_contacts=240, gender='female'),\n",
              "   User(id=2, age=25, social_contacts=500, gender='female')]),\n",
              " (33, [User(id=3, age=33, social_contacts=800, gender='female')])]"
            ]
          },
          "metadata": {},
          "execution_count": 11
        }
      ]
    },
    {
      "cell_type": "code",
      "metadata": {
        "id": "NlA7lkDDYL0t",
        "colab": {
          "base_uri": "https://localhost:8080/"
        },
        "outputId": "9eb5808f-f4ba-440d-dcb2-1ab12424649d"
      },
      "source": [
        "reduce_output = flatten(map(lambda x: REDUCE(*x), shuffle_output))\n",
        "reduce_output = list(reduce_output)\n",
        "reduce_output"
      ],
      "execution_count": null,
      "outputs": [
        {
          "output_type": "execute_result",
          "data": {
            "text/plain": [
              "[(25, 370.0), (33, 800.0)]"
            ]
          },
          "metadata": {},
          "execution_count": 12
        }
      ]
    },
    {
      "cell_type": "markdown",
      "metadata": {
        "id": "xf6qhHEtd6bI"
      },
      "source": [
        "Все действия одним конвейером!"
      ]
    },
    {
      "cell_type": "code",
      "metadata": {
        "id": "dZaQGYxCdpw5",
        "colab": {
          "base_uri": "https://localhost:8080/"
        },
        "outputId": "8d949cd0-f887-470d-c5c5-be0f1c4b404f"
      },
      "source": [
        "list(flatten(map(lambda x: REDUCE(*x), groupbykey(flatten(map(lambda x: MAP(*x), RECORDREADER()))))))"
      ],
      "execution_count": null,
      "outputs": [
        {
          "output_type": "execute_result",
          "data": {
            "text/plain": [
              "[(25, 370.0), (33, 800.0)]"
            ]
          },
          "metadata": {},
          "execution_count": 13
        }
      ]
    },
    {
      "cell_type": "markdown",
      "metadata": {
        "id": "Vq3EWRIpwSiJ"
      },
      "source": [
        "# **MapReduce**\n",
        "Выделим общую для всех пользователей часть системы в отдельную функцию высшего порядка. Это наиболее простая модель MapReduce, без учёта распределённого хранения данных.\n",
        "\n",
        "Пользователь для решения своей задачи реализует RECORDREADER, MAP, REDUCE."
      ]
    },
    {
      "cell_type": "code",
      "metadata": {
        "id": "V1PZeQMwwVjc"
      },
      "source": [
        "def flatten(nested_iterable):\n",
        "  for iterable in nested_iterable:\n",
        "    for element in iterable:\n",
        "      yield element\n",
        "\n",
        "def groupbykey(iterable):\n",
        "  t = {}\n",
        "  for (k2, v2) in iterable:\n",
        "    t[k2] = t.get(k2, []) + [v2]\n",
        "  return t.items()\n",
        "\n",
        "def MapReduce(RECORDREADER, MAP, REDUCE):\n",
        "  return flatten(map(lambda x: REDUCE(*x), groupbykey(flatten(map(lambda x: MAP(*x), RECORDREADER())))))"
      ],
      "execution_count": null,
      "outputs": []
    },
    {
      "cell_type": "markdown",
      "metadata": {
        "id": "iFIVrimep678"
      },
      "source": [
        "## Спецификация MapReduce\n",
        "\n",
        "\n",
        "\n",
        "```\n",
        "f (k1, v1) -> (k2,v2)*\n",
        "g (k2, v2*) -> (k3,v3)*\n",
        "\n",
        "mapreduce ((k1,v1)*) -> (k3,v3)*\n",
        "groupby ((k2,v2)*) -> (k2,v2*)*\n",
        "flatten (e2**) -> e2*\n",
        "\n",
        "mapreduce .map(f).flatten.groupby(k2).map(g).flatten\n",
        "```\n",
        "\n",
        "\n"
      ]
    },
    {
      "cell_type": "markdown",
      "metadata": {
        "id": "QtTFyqke3KGe"
      },
      "source": [
        "# Примеры"
      ]
    },
    {
      "cell_type": "markdown",
      "metadata": {
        "id": "BNhh5763w5Vn"
      },
      "source": [
        "## SQL"
      ]
    },
    {
      "cell_type": "code",
      "metadata": {
        "id": "QkyurnvGxBGk",
        "colab": {
          "base_uri": "https://localhost:8080/"
        },
        "outputId": "b8ae49d3-2f05-4278-f39d-327f7f76262f"
      },
      "source": [
        "from typing import NamedTuple # requires python 3.6+\n",
        "from typing import Iterator\n",
        "\n",
        "class User(NamedTuple):\n",
        "  id: int\n",
        "  age: str\n",
        "  social_contacts: int\n",
        "  gender: str\n",
        "\n",
        "input_collection = [\n",
        "    User(id=0, age=55, gender='male', social_contacts=20),\n",
        "    User(id=1, age=25, gender='female', social_contacts=240),\n",
        "    User(id=2, age=25, gender='female', social_contacts=500),\n",
        "    User(id=3, age=33, gender='female', social_contacts=800)\n",
        "]\n",
        "\n",
        "def MAP(_, row:NamedTuple):\n",
        "  if (row.gender == 'female'):\n",
        "    yield (row.age, row)\n",
        "\n",
        "def REDUCE(age:str, rows:Iterator[NamedTuple]):\n",
        "  sum = 0\n",
        "  count = 0\n",
        "  for row in rows:\n",
        "    sum += row.social_contacts\n",
        "    count += 1\n",
        "  if (count > 0):\n",
        "    yield (age, sum/count)\n",
        "  else:\n",
        "    yield (age, 0)\n",
        "\n",
        "def RECORDREADER():\n",
        "  return [(u.id, u) for u in input_collection]\n",
        "\n",
        "output = MapReduce(RECORDREADER, MAP, REDUCE)\n",
        "output = list(output)\n",
        "output"
      ],
      "execution_count": null,
      "outputs": [
        {
          "output_type": "execute_result",
          "data": {
            "text/plain": [
              "[(25, 370.0), (33, 800.0)]"
            ]
          },
          "metadata": {},
          "execution_count": 15
        }
      ]
    },
    {
      "cell_type": "markdown",
      "metadata": {
        "id": "kNKYIeerx0nY"
      },
      "source": [
        "## Matrix-Vector multiplication"
      ]
    },
    {
      "cell_type": "code",
      "metadata": {
        "id": "rwcntRcCyi1V",
        "colab": {
          "base_uri": "https://localhost:8080/"
        },
        "outputId": "ee76f322-8e0a-4b7c-8eba-cfbd56cfa50b"
      },
      "source": [
        "from typing import Iterator\n",
        "import numpy as np\n",
        "\n",
        "mat = np.ones((5,4))\n",
        "vec = np.random.rand(4) # in-memory vector in all map tasks\n",
        "\n",
        "def MAP(coordinates:(int, int), value:int):\n",
        "  i, j = coordinates\n",
        "  yield (i, value*vec[j])\n",
        "\n",
        "def REDUCE(i:int, products:Iterator[NamedTuple]):\n",
        "  sum = 0\n",
        "  for p in products:\n",
        "    sum += p\n",
        "  yield (i, sum)\n",
        "\n",
        "def RECORDREADER():\n",
        "  for i in range(mat.shape[0]):\n",
        "    for j in range(mat.shape[1]):\n",
        "      yield ((i, j), mat[i,j])\n",
        "\n",
        "output = MapReduce(RECORDREADER, MAP, REDUCE)\n",
        "output = list(output)\n",
        "output"
      ],
      "execution_count": null,
      "outputs": [
        {
          "output_type": "execute_result",
          "data": {
            "text/plain": [
              "[(0, 1.470033109395096),\n",
              " (1, 1.470033109395096),\n",
              " (2, 1.470033109395096),\n",
              " (3, 1.470033109395096),\n",
              " (4, 1.470033109395096)]"
            ]
          },
          "metadata": {},
          "execution_count": 16
        }
      ]
    },
    {
      "cell_type": "markdown",
      "metadata": {
        "id": "ruZREYdi2o4O"
      },
      "source": [
        "## Inverted index"
      ]
    },
    {
      "cell_type": "code",
      "metadata": {
        "id": "vt9H9Alf3TYv",
        "colab": {
          "base_uri": "https://localhost:8080/"
        },
        "outputId": "f277d75f-03ce-4fbc-fa38-9c7d5c93c178"
      },
      "source": [
        "from typing import Iterator\n",
        "\n",
        "d1 = \"it is what it is\"\n",
        "d2 = \"what is it\"\n",
        "d3 = \"it is a banana\"\n",
        "documents = [d1, d2, d3]\n",
        "\n",
        "def RECORDREADER():\n",
        "  for (docid, document) in enumerate(documents):\n",
        "    yield (\"{}\".format(docid), document)\n",
        "\n",
        "def MAP(docId:str, body:str):\n",
        "  for word in set(body.split(' ')):\n",
        "    yield (word, docId)\n",
        "\n",
        "def REDUCE(word:str, docIds:Iterator[str]):\n",
        "  yield (word, sorted(docIds))\n",
        "\n",
        "output = MapReduce(RECORDREADER, MAP, REDUCE)\n",
        "output = list(output)\n",
        "output"
      ],
      "execution_count": null,
      "outputs": [
        {
          "output_type": "execute_result",
          "data": {
            "text/plain": [
              "[('it', ['0', '1', '2']),\n",
              " ('what', ['0', '1']),\n",
              " ('is', ['0', '1', '2']),\n",
              " ('a', ['2']),\n",
              " ('banana', ['2'])]"
            ]
          },
          "metadata": {},
          "execution_count": 17
        }
      ]
    },
    {
      "cell_type": "markdown",
      "metadata": {
        "id": "R7az-6DA6qr2"
      },
      "source": [
        "## WordCount"
      ]
    },
    {
      "cell_type": "code",
      "metadata": {
        "id": "dN-nbtgG6uYG",
        "colab": {
          "base_uri": "https://localhost:8080/"
        },
        "outputId": "4f24a7e6-b437-434a-f210-c79a2956a168"
      },
      "source": [
        "from typing import Iterator\n",
        "\n",
        "d1 = \"\"\"\n",
        "it is what it is\n",
        "it is what it is\n",
        "it is what it is\"\"\"\n",
        "d2 = \"\"\"\n",
        "what is it\n",
        "what is it\"\"\"\n",
        "d3 = \"\"\"\n",
        "it is a banana\"\"\"\n",
        "documents = [d1, d2, d3]\n",
        "\n",
        "def RECORDREADER():\n",
        "  for (docid, document) in enumerate(documents):\n",
        "    for (lineid, line) in enumerate(document.split('\\n')):\n",
        "      yield (\"{}:{}\".format(docid,lineid), line)\n",
        "\n",
        "def MAP(docId:str, line:str):\n",
        "  for word in line.split(\" \"):\n",
        "    yield (word, 1)\n",
        "\n",
        "def REDUCE(word:str, counts:Iterator[int]):\n",
        "  sum = 0\n",
        "  for c in counts:\n",
        "    sum += c\n",
        "  yield (word, sum)\n",
        "\n",
        "output = MapReduce(RECORDREADER, MAP, REDUCE)\n",
        "output = list(output)\n",
        "output"
      ],
      "execution_count": null,
      "outputs": [
        {
          "output_type": "execute_result",
          "data": {
            "text/plain": [
              "[('', 3), ('it', 9), ('is', 9), ('what', 5), ('a', 1), ('banana', 1)]"
            ]
          },
          "metadata": {},
          "execution_count": 18
        }
      ]
    },
    {
      "cell_type": "markdown",
      "metadata": {
        "id": "h-jRAcYCAkkk"
      },
      "source": [
        "# MapReduce Distributed\n",
        "\n",
        "Добавляется в модель фабрика RECORDREARER-ов --- INPUTFORMAT, функция распределения промежуточных результатов по партициям PARTITIONER, и функция COMBINER для частичной аггрегации промежуточных результатов до распределения по новым партициям."
      ]
    },
    {
      "cell_type": "code",
      "metadata": {
        "id": "nw-b-xJsApgW"
      },
      "source": [
        "def flatten(nested_iterable):\n",
        "  for iterable in nested_iterable:\n",
        "    for element in iterable:\n",
        "      yield element\n",
        "\n",
        "def groupbykey(iterable):\n",
        "  t = {}\n",
        "  for (k2, v2) in iterable:\n",
        "    t[k2] = t.get(k2, []) + [v2]\n",
        "  return t.items()\n",
        "\n",
        "def groupbykey_distributed(map_partitions, PARTITIONER):\n",
        "  global reducers\n",
        "  partitions = [dict() for _ in range(reducers)]\n",
        "  for map_partition in map_partitions:\n",
        "    for (k2, v2) in map_partition:\n",
        "      p = partitions[PARTITIONER(k2)]\n",
        "      p[k2] = p.get(k2, []) + [v2]\n",
        "  return [(partition_id, sorted(partition.items(), key=lambda x: x[0])) for (partition_id, partition) in enumerate(partitions)]\n",
        "\n",
        "def PARTITIONER(obj):\n",
        "  global reducers\n",
        "  return hash(obj) % reducers\n",
        "\n",
        "def MapReduceDistributed(INPUTFORMAT, MAP, REDUCE, PARTITIONER=PARTITIONER, COMBINER=None):\n",
        "  map_partitions = map(lambda record_reader: flatten(map(lambda k1v1: MAP(*k1v1), record_reader)), INPUTFORMAT())\n",
        "  if COMBINER != None:\n",
        "    map_partitions = map(lambda map_partition: flatten(map(lambda k2v2: COMBINER(*k2v2), groupbykey(map_partition))), map_partitions)\n",
        "  reduce_partitions = groupbykey_distributed(map_partitions, PARTITIONER) # shuffle\n",
        "  reduce_outputs = map(lambda reduce_partition: (reduce_partition[0], flatten(map(lambda reduce_input_group: REDUCE(*reduce_input_group), reduce_partition[1]))), reduce_partitions)\n",
        "\n",
        "  print(\"{} key-value pairs were sent over a network.\".format(sum([len(vs) for (k,vs) in flatten([partition for (partition_id, partition) in reduce_partitions])])))\n",
        "  return reduce_outputs"
      ],
      "execution_count": null,
      "outputs": []
    },
    {
      "cell_type": "markdown",
      "metadata": {
        "id": "kxirlf3XqZxY"
      },
      "source": [
        "## Спецификация MapReduce Distributed\n",
        "\n",
        "\n",
        "```\n",
        "f (k1, v1) -> (k2,v2)*\n",
        "g (k2, v2*) -> (k3,v3)*\n",
        "\n",
        "e1 (k1, v1)\n",
        "e2 (k2, v2)\n",
        "partition1 (k2, v2)*\n",
        "partition2 (k2, v2*)*\n",
        "\n",
        "flatmap (e1->e2*, e1*) -> partition1*\n",
        "groupby (partition1*) -> partition2*\n",
        "\n",
        "mapreduce ((k1,v1)*) -> (k3,v3)*\n",
        "mapreduce .flatmap(f).groupby(k2).flatmap(g)\n",
        "```\n",
        "\n"
      ]
    },
    {
      "cell_type": "markdown",
      "metadata": {
        "id": "CWYw_CpbbY3C"
      },
      "source": [
        "## WordCount"
      ]
    },
    {
      "cell_type": "code",
      "metadata": {
        "id": "uR_zfGFkMZlp",
        "colab": {
          "base_uri": "https://localhost:8080/"
        },
        "outputId": "9e64893b-0f60-44ad-f996-3c6bee0769b9"
      },
      "source": [
        "from typing import Iterator\n",
        "import numpy as np\n",
        "\n",
        "d1 = \"\"\"\n",
        "it is what it is\n",
        "it is what it is\n",
        "it is what it is\"\"\"\n",
        "d2 = \"\"\"\n",
        "what is it\n",
        "what is it\"\"\"\n",
        "d3 = \"\"\"\n",
        "it is a banana\"\"\"\n",
        "documents = [d1, d2, d3, d1, d2, d3]\n",
        "\n",
        "maps = 3\n",
        "reducers = 2\n",
        "\n",
        "def INPUTFORMAT():\n",
        "  global maps\n",
        "\n",
        "  def RECORDREADER(split):\n",
        "    for (docid, document) in enumerate(split):\n",
        "      for (lineid, line) in enumerate(document.split('\\n')):\n",
        "        yield (\"{}:{}\".format(docid,lineid), line)\n",
        "\n",
        "  split_size =  int(np.ceil(len(documents)/maps))\n",
        "  for i in range(0, len(documents), split_size):\n",
        "    yield RECORDREADER(documents[i:i+split_size])\n",
        "\n",
        "def MAP(docId:str, line:str):\n",
        "  for word in line.split(\" \"):\n",
        "    yield (word, 1)\n",
        "\n",
        "def REDUCE(word:str, counts:Iterator[int]):\n",
        "  sum = 0\n",
        "  for c in counts:\n",
        "    sum += c\n",
        "  yield (word, sum)\n",
        "\n",
        "# try to set COMBINER=REDUCER and look at the number of values sent over the network\n",
        "partitioned_output = MapReduceDistributed(INPUTFORMAT, MAP, REDUCE, COMBINER=None)\n",
        "partitioned_output = [(partition_id, list(partition)) for (partition_id, partition) in partitioned_output]\n",
        "partitioned_output"
      ],
      "execution_count": null,
      "outputs": [
        {
          "output_type": "stream",
          "name": "stdout",
          "text": [
            "56 key-value pairs were sent over a network.\n"
          ]
        },
        {
          "output_type": "execute_result",
          "data": {
            "text/plain": [
              "[(0, [('', 6), ('banana', 2), ('what', 10)]),\n",
              " (1, [('a', 2), ('is', 18), ('it', 18)])]"
            ]
          },
          "metadata": {},
          "execution_count": 20
        }
      ]
    },
    {
      "cell_type": "markdown",
      "metadata": {
        "id": "gCJGx8IQ87xS"
      },
      "source": [
        "## TeraSort"
      ]
    },
    {
      "cell_type": "code",
      "metadata": {
        "id": "P2v8v1v_8_YR",
        "colab": {
          "base_uri": "https://localhost:8080/"
        },
        "outputId": "758c3dc0-2e5c-40ca-9d8c-1ce672fdfeef"
      },
      "source": [
        "import numpy as np\n",
        "\n",
        "input_values = np.random.rand(30)\n",
        "maps = 3\n",
        "reducers = 2\n",
        "min_value = 0.0\n",
        "max_value = 1.0\n",
        "\n",
        "def INPUTFORMAT():\n",
        "  global maps\n",
        "\n",
        "  def RECORDREADER(split):\n",
        "    for value in split:\n",
        "        yield (value, None)\n",
        "\n",
        "  split_size =  int(np.ceil(len(input_values)/maps))\n",
        "  for i in range(0, len(input_values), split_size):\n",
        "    yield RECORDREADER(input_values[i:i+split_size])\n",
        "\n",
        "def MAP(value:int, _):\n",
        "  yield (value, None)\n",
        "\n",
        "def PARTITIONER(key):\n",
        "  global reducers\n",
        "  global max_value\n",
        "  global min_value\n",
        "  bucket_size = (max_value-min_value)/reducers\n",
        "  bucket_id = 0\n",
        "  while((key>(bucket_id+1)*bucket_size) and ((bucket_id+1)*bucket_size<max_value)):\n",
        "    bucket_id += 1\n",
        "  return bucket_id\n",
        "\n",
        "def REDUCE(value:int, _):\n",
        "  yield (None,value)\n",
        "\n",
        "partitioned_output = MapReduceDistributed(INPUTFORMAT, MAP, REDUCE, COMBINER=None, PARTITIONER=PARTITIONER)\n",
        "partitioned_output = [(partition_id, list(partition)) for (partition_id, partition) in partitioned_output]\n",
        "partitioned_output"
      ],
      "execution_count": null,
      "outputs": [
        {
          "output_type": "stream",
          "name": "stdout",
          "text": [
            "30 key-value pairs were sent over a network.\n"
          ]
        },
        {
          "output_type": "execute_result",
          "data": {
            "text/plain": [
              "[(0,\n",
              "  [(None, 0.04505896562137246),\n",
              "   (None, 0.052517753518649624),\n",
              "   (None, 0.09592507753022173),\n",
              "   (None, 0.21686007660697104),\n",
              "   (None, 0.2381214076576984),\n",
              "   (None, 0.2687138588594764),\n",
              "   (None, 0.33293926271632757),\n",
              "   (None, 0.3483926605165497),\n",
              "   (None, 0.42064477844919534),\n",
              "   (None, 0.44704937026851743),\n",
              "   (None, 0.4618798499706903),\n",
              "   (None, 0.4865439527238299),\n",
              "   (None, 0.49209569409335463)]),\n",
              " (1,\n",
              "  [(None, 0.5150706072908666),\n",
              "   (None, 0.5206213577105443),\n",
              "   (None, 0.5364673088375026),\n",
              "   (None, 0.6526555707220714),\n",
              "   (None, 0.6540514556416043),\n",
              "   (None, 0.7021728573914745),\n",
              "   (None, 0.7121054975283118),\n",
              "   (None, 0.715942462943986),\n",
              "   (None, 0.7356090736894821),\n",
              "   (None, 0.7413721021894909),\n",
              "   (None, 0.8375244864609163),\n",
              "   (None, 0.8439351567571636),\n",
              "   (None, 0.8458890411775093),\n",
              "   (None, 0.869334797786821),\n",
              "   (None, 0.8693502088658266),\n",
              "   (None, 0.9183935469203568),\n",
              "   (None, 0.9300470008378819)])]"
            ]
          },
          "metadata": {},
          "execution_count": 21
        }
      ]
    },
    {
      "cell_type": "code",
      "metadata": {
        "id": "MQhoJaVZI93G"
      },
      "source": [],
      "execution_count": null,
      "outputs": []
    },
    {
      "cell_type": "markdown",
      "metadata": {
        "id": "Iy65YJTH99iT"
      },
      "source": [
        "# Упражнения\n",
        "Упражнения взяты из Rajaraman A., Ullman J. D. Mining of massive datasets. – Cambridge University Press, 2011.\n",
        "\n",
        "\n",
        "Для выполнения заданий переопределите функции RECORDREADER, MAP, REDUCE. Для модели распределённой системы может потребоваться переопределение функций PARTITION и COMBINER."
      ]
    },
    {
      "cell_type": "markdown",
      "metadata": {
        "id": "cfvAeZm3S8S8"
      },
      "source": [
        "### Максимальное значение ряда\n",
        "\n",
        "Разработайте MapReduce алгоритм, который находит максимальное число входного списка чисел."
      ]
    },
    {
      "cell_type": "code",
      "metadata": {
        "id": "3GRA1JR-Tkbg",
        "colab": {
          "base_uri": "https://localhost:8080/"
        },
        "outputId": "2b4dc016-9283-4b4c-f415-fc2494a2acfe"
      },
      "source": [
        "def MAP_MAX(_, row: NamedTuple):\n",
        "  yield(\"max\", row)\n",
        "\n",
        "def REDUCE_MAX(max_str: str, rows: Iterator[NamedTuple]):\n",
        "  max_value_user = rows[0]\n",
        "  for row in rows:\n",
        "    if(row.social_contacts > max_value_user.social_contacts):\n",
        "      max_value_user = row\n",
        "  yield (max_str, max_value_user)\n",
        "\n",
        "\n",
        "def RECORDREADER():\n",
        "  return [(u.id, u) for u in input_collection]\n",
        "\n",
        "output = MapReduce(RECORDREADER, MAP_MAX, REDUCE_MAX)\n",
        "output = list(output)\n",
        "output\n",
        "\n"
      ],
      "execution_count": null,
      "outputs": [
        {
          "output_type": "execute_result",
          "data": {
            "text/plain": [
              "[('max', User(id=3, age=33, social_contacts=800, gender='female'))]"
            ]
          },
          "metadata": {},
          "execution_count": 22
        }
      ]
    },
    {
      "cell_type": "markdown",
      "metadata": {
        "id": "k86bXnqZTk-U"
      },
      "source": [
        "### Арифметическое среднее\n",
        "\n",
        "Разработайте MapReduce алгоритм, который находит арифметическое среднее.\n",
        "\n",
        "$$\\overline{X} = \\frac{1}{n}\\sum_{i=0}^{n} x_i$$\n"
      ]
    },
    {
      "cell_type": "code",
      "metadata": {
        "id": "MPoY5pkfUNZf",
        "colab": {
          "base_uri": "https://localhost:8080/"
        },
        "outputId": "16cb6c77-983f-4d39-cec2-71346e8a2273"
      },
      "source": [
        "def MAP_AVERAGE(_, row: NamedTuple):\n",
        "  yield(\"average\", row)\n",
        "\n",
        "def REDUCE_AVERAGE(average_str: str, rows: Iterator[NamedTuple]):\n",
        "  count = 0\n",
        "  summa = 0\n",
        "  for row in rows:\n",
        "    summa += row.social_contacts\n",
        "    count += 1\n",
        "  yield (average_str, summa/count)\n",
        "\n",
        "\n",
        "def RECORDREADER():\n",
        "  return [(u.id, u) for u in input_collection]\n",
        "\n",
        "output = MapReduce(RECORDREADER, MAP_AVERAGE, REDUCE_AVERAGE)\n",
        "output = list(output)\n",
        "output"
      ],
      "execution_count": null,
      "outputs": [
        {
          "output_type": "execute_result",
          "data": {
            "text/plain": [
              "[('average', 390.0)]"
            ]
          },
          "metadata": {},
          "execution_count": 23
        }
      ]
    },
    {
      "cell_type": "markdown",
      "metadata": {
        "id": "xanzszhsIlLe"
      },
      "source": [
        "### GroupByKey на основе сортировки\n",
        "\n",
        "Реализуйте groupByKey на основе сортировки, проверьте его работу на примерах"
      ]
    },
    {
      "cell_type": "code",
      "metadata": {
        "id": "hQPn3USsIkEC",
        "colab": {
          "base_uri": "https://localhost:8080/"
        },
        "outputId": "bd883d5e-dffa-4137-b468-e96a6fa06ae6"
      },
      "source": [
        "def groupbykey(iterable):\n",
        "    # Сортировка по id\n",
        "    iterable = sorted(iterable, key=lambda user: user[0])\n",
        "    t = {}\n",
        "    for k2, v2 in iterable:\n",
        "        t[k2] = t.get(k2, []) + [v2]\n",
        "    return t.items()\n",
        "\n",
        "output = MapReduce(RECORDREADER, MAP_MAX, REDUCE_MAX)\n",
        "output = list(output)\n",
        "print(f\"max: {output}\")\n",
        "\n",
        "output = MapReduce(RECORDREADER, MAP_AVERAGE, REDUCE_AVERAGE)\n",
        "output = list(output)\n",
        "print(f\"average: {output}\")"
      ],
      "execution_count": null,
      "outputs": [
        {
          "output_type": "stream",
          "name": "stdout",
          "text": [
            "max: [('max', User(id=3, age=33, social_contacts=800, gender='female'))]\n",
            "average: [('average', 390.0)]\n"
          ]
        }
      ]
    },
    {
      "cell_type": "markdown",
      "metadata": {
        "id": "5SgEjCZyGnu6"
      },
      "source": [
        "### Drop duplicates (set construction, unique elements, distinct)\n",
        "\n",
        "Реализуйте распределённую операцию исключения дубликатов"
      ]
    },
    {
      "cell_type": "code",
      "metadata": {
        "id": "okjbyApjGhMt",
        "colab": {
          "base_uri": "https://localhost:8080/"
        },
        "outputId": "2e318c9e-18f1-456b-811c-6c27a1ad2212"
      },
      "source": [
        "input_collection = [\n",
        "    User(id=0, age=54, gender=\"male\", social_contacts=2000),\n",
        "    User(id=0, age=25, gender=\"female\", social_contacts=240),\n",
        "    User(id=1, age=27, gender=\"male\", social_contacts=642),\n",
        "    User(id=2, age=22, gender=\"female\", social_contacts=123),\n",
        "    User(id=2, age=35, gender=\"female\", social_contacts=247),\n",
        "    User(id=3, age=31, gender=\"male\", social_contacts=521),\n",
        "    User(id=3, age=15, gender=\"female\", social_contacts=73),\n",
        "]\n",
        "\n",
        "def flatten(nested_iterable):\n",
        "  for iterable in nested_iterable:\n",
        "    for element in iterable:\n",
        "      yield element\n",
        "\n",
        "def groupbykey(iterable):\n",
        "  t = {}\n",
        "  for (k2, v2) in iterable:\n",
        "    t[k2] = t.get(k2, []) + [v2]\n",
        "  return t.items()\n",
        "\n",
        "def groupbykey_distributed(map_partitions, PARTITIONER):\n",
        "  global reducers\n",
        "  partitions = [dict() for _ in range(reducers)]\n",
        "  for map_partition in map_partitions:\n",
        "    for (k2, v2) in map_partition:\n",
        "      p = partitions[PARTITIONER(k2)]\n",
        "      p[k2] = p.get(k2, []) + [v2]\n",
        "  return [(partition_id, sorted(partition.items(), key=lambda x: x[0])) for (partition_id, partition) in enumerate(partitions)]\n",
        "\n",
        "def PARTITIONER(obj):\n",
        "  global reducers\n",
        "  return hash(obj) % reducers\n",
        "\n",
        "def MapReduceDistributed(INPUTFORMAT, MAP, REDUCE, PARTITIONER=PARTITIONER, COMBINER=None):\n",
        "  map_partitions = map(lambda record_reader: flatten(map(lambda k1v1: MAP(*k1v1), record_reader)), INPUTFORMAT())\n",
        "\n",
        "  if COMBINER != None:\n",
        "    map_partitions = map(lambda map_partition: flatten(map(lambda k2v2: COMBINER(*k2v2), groupbykey(map_partition))), map_partitions)\n",
        "\n",
        "  reduce_partitions = groupbykey_distributed(map_partitions, PARTITIONER) # shuffle\n",
        "  reduce_outputs = map(lambda reduce_partition: (reduce_partition[0], flatten(map(lambda reduce_input_group: REDUCE(*reduce_input_group), reduce_partition[1]))), reduce_partitions)\n",
        "\n",
        "  print(\"{} key-value pairs were sent over a network.\".format(sum([len(vs) for (k,vs) in flatten([partition for (partition_id, partition) in reduce_partitions])])))\n",
        "  return reduce_outputs\n",
        "\n",
        "maps = 3\n",
        "reducers = 2\n",
        "\n",
        "\n",
        "def INPUTFORMAT():\n",
        "    global maps\n",
        "\n",
        "    def RECORDREADER(split):\n",
        "        for userindex, user in enumerate(split):\n",
        "            yield (userindex, user)\n",
        "\n",
        "    split_size = int(np.ceil(len(input_collection) / maps))\n",
        "    for i in range(0, len(input_collection), split_size):\n",
        "        yield RECORDREADER(input_collection[i : i + split_size])\n",
        "\n",
        "\n",
        "def MAP_UNIQUE(_, user: str):\n",
        "    yield (user.id, user)\n",
        "\n",
        "def REDUCE_UNIQUE(user_id: int, users: Iterator[int]):\n",
        "    yield users[0]\n",
        "\n",
        "\n",
        "partitioned_output = MapReduceDistributed(\n",
        "    INPUTFORMAT, MAP_UNIQUE, REDUCE_UNIQUE, COMBINER=None\n",
        ")\n",
        "partitioned_output = [\n",
        "    (partition_id, list(partition)) for (partition_id, partition) in partitioned_output\n",
        "]\n",
        "partitioned_output\n"
      ],
      "execution_count": null,
      "outputs": [
        {
          "output_type": "stream",
          "name": "stdout",
          "text": [
            "7 key-value pairs were sent over a network.\n"
          ]
        },
        {
          "output_type": "execute_result",
          "data": {
            "text/plain": [
              "[(0,\n",
              "  [User(id=0, age=54, social_contacts=2000, gender='male'),\n",
              "   User(id=2, age=22, social_contacts=123, gender='female')]),\n",
              " (1,\n",
              "  [User(id=1, age=27, social_contacts=642, gender='male'),\n",
              "   User(id=3, age=31, social_contacts=521, gender='male')])]"
            ]
          },
          "metadata": {},
          "execution_count": 25
        }
      ]
    },
    {
      "cell_type": "markdown",
      "metadata": {
        "id": "e7sRGoTXuJze"
      },
      "source": [
        "#Операторы реляционной алгебры\n",
        "### Selection (Выборка)\n",
        "\n",
        "**The Map Function**: Для  каждого кортежа $t \\in R$ вычисляется истинность предиката $C$. В случае истины создаётся пара ключ-значение $(t, t)$. В паре ключ и значение одинаковы, равны $t$.\n",
        "\n",
        "**The Reduce Function:** Роль функции Reduce выполняет функция идентичности, которая возвращает то же значение, что получила на вход.\n",
        "\n"
      ]
    },
    {
      "cell_type": "code",
      "metadata": {
        "id": "4nKIKe59uIfc",
        "colab": {
          "base_uri": "https://localhost:8080/"
        },
        "outputId": "f9db0f9e-87b5-48c1-a3ee-190c84a307de"
      },
      "source": [
        "# Предикатом C в данном случае является проверка параметра gender\n",
        "def MAP_SELECT(_, row: NamedTuple):\n",
        "    if row.gender == \"male\":\n",
        "        yield (row, row)\n",
        "\n",
        "\n",
        "def REDUCE_SELECT(row: str, rows: Iterator[NamedTuple]):\n",
        "    yield (row, rows)\n",
        "\n",
        "\n",
        "def RECORDREADER():\n",
        "    return [(u.id, u) for u in input_collection]\n",
        "\n",
        "\n",
        "output = MapReduce(RECORDREADER, MAP_SELECT, REDUCE_SELECT)\n",
        "output = list(output)\n",
        "output"
      ],
      "execution_count": null,
      "outputs": [
        {
          "output_type": "execute_result",
          "data": {
            "text/plain": [
              "[(User(id=0, age=54, social_contacts=2000, gender='male'),\n",
              "  [User(id=0, age=54, social_contacts=2000, gender='male')]),\n",
              " (User(id=1, age=27, social_contacts=642, gender='male'),\n",
              "  [User(id=1, age=27, social_contacts=642, gender='male')]),\n",
              " (User(id=3, age=31, social_contacts=521, gender='male'),\n",
              "  [User(id=3, age=31, social_contacts=521, gender='male')])]"
            ]
          },
          "metadata": {},
          "execution_count": 26
        }
      ]
    },
    {
      "cell_type": "markdown",
      "metadata": {
        "id": "w27Ca-_Ku85V"
      },
      "source": [
        "### Projection (Проекция)\n",
        "\n",
        "Проекция на множество атрибутов $S$.\n",
        "\n",
        "**The Map Function:** Для каждого кортежа $t \\in R$ создайте кортеж $t′$, исключая  из $t$ те значения, атрибуты которых не принадлежат  $S$. Верните пару $(t′, t′)$.\n",
        "\n",
        "**The Reduce Function:** Для каждого ключа $t′$, созданного любой Map задачей, вы получаете одну или несколько пар $(t′, t′)$. Reduce функция преобразует $(t′, [t′, t′, . . . , t′])$ в $(t′, t′)$, так, что для ключа $t′$ возвращается одна пара  $(t′, t′)$."
      ]
    },
    {
      "cell_type": "code",
      "metadata": {
        "id": "BEvuY4GqvhS6",
        "colab": {
          "base_uri": "https://localhost:8080/"
        },
        "outputId": "67d9683b-2aef-4782-ec04-6e7cdc660744"
      },
      "source": [
        "input_collection_2 = [\n",
        "    dict(id=0, age=54, gender=\"male\", social_contacts=20),\n",
        "    dict(id=0, age=25, gender=\"female\", social_contacts=240),\n",
        "    dict(id=1, age=27, gender=\"male\", social_contacts=642),\n",
        "    dict(id=2, age=16, gender=\"male\", social_contacts=123),\n",
        "    dict(id=2, age=35, gender=\"female\", social_contacts=247),\n",
        "    dict(id=3, age=32, gender=\"male\", social_contacts=521),\n",
        "    dict(id=3, age=32, gender=\"male\", social_contacts=753),\n",
        "]\n",
        "\n",
        "def flatten(nested_iterable):\n",
        "    for iterable in nested_iterable:\n",
        "        for element in iterable:\n",
        "            yield element\n",
        "\n",
        "\n",
        "def groupbykey(iterable):\n",
        "    t = {}\n",
        "    for k2, v2 in iterable:\n",
        "        t[k2] = t.get(k2, []) + [v2]\n",
        "    return t.items()\n",
        "\n",
        "\n",
        "def MapReduce(RECORDREADER, MAP, REDUCE):\n",
        "    return flatten(\n",
        "        map(\n",
        "            lambda x: REDUCE(*x),\n",
        "            groupbykey(flatten(map(lambda x: MAP(*x), RECORDREADER()))),\n",
        "        )\n",
        "    )\n",
        "\n",
        "def MAP_PROJECTION(_, iterable):# делаем проекцию по S\n",
        "  S = [\"age\", \"gender\"]\n",
        "  filtered_data = [{key: item[key] for key in S if key in item} for item in input_collection_2]\n",
        "  for data in filtered_data:\n",
        "    yield (data[\"age\"], data)\n",
        "\n",
        "def REDUCE_PROJECTION(row: str, rows: Iterator[NamedTuple]):# убираем повторки\n",
        "  unique_rows = set()\n",
        "  for row_data in rows:\n",
        "      row_tuple = tuple(row_data.items())\n",
        "      unique_rows.add(row_tuple)\n",
        "\n",
        "  return [{key: value for key, value in row_tuple} for row_tuple in unique_rows]\n",
        "\n",
        "def RECORDREADER():\n",
        "    return [(u[\"id\"], u) for u in input_collection_2]\n",
        "\n",
        "output = MapReduce(RECORDREADER, MAP_PROJECTION, REDUCE_PROJECTION)\n",
        "output = list(output)\n",
        "output"
      ],
      "execution_count": null,
      "outputs": [
        {
          "output_type": "execute_result",
          "data": {
            "text/plain": [
              "[{'age': 54, 'gender': 'male'},\n",
              " {'age': 25, 'gender': 'female'},\n",
              " {'age': 27, 'gender': 'male'},\n",
              " {'age': 16, 'gender': 'male'},\n",
              " {'age': 35, 'gender': 'female'},\n",
              " {'age': 32, 'gender': 'male'}]"
            ]
          },
          "metadata": {},
          "execution_count": 27
        }
      ]
    },
    {
      "cell_type": "markdown",
      "metadata": {
        "id": "7gau6lKXvn2R"
      },
      "source": [
        "### Union (Объединение)\n",
        "\n",
        "**The Map Function:** Превратите каждый входной кортеж $t$ в пару ключ-значение $(t, t)$.\n",
        "\n",
        "**The Reduce Function:** С каждым ключом $t$ будет ассоциировано одно или два значений. В обоих случаях создайте $(t, t)$ в качестве выходного значения."
      ]
    },
    {
      "cell_type": "code",
      "metadata": {
        "id": "Sns7a5agv3nw",
        "colab": {
          "base_uri": "https://localhost:8080/"
        },
        "outputId": "eb52c2b3-2b49-4790-cd55-a97e439bfdb2"
      },
      "source": [
        "from typing import Iterator\n",
        "\n",
        "input_collection_a = [\n",
        "    User(id=1, age=54, gender=\"male\", social_contacts=20),\n",
        "    User(id=2, age=25, gender=\"female\", social_contacts=240),\n",
        "    User(id=3, age=27, gender=\"male\", social_contacts=642),\n",
        "    User(id=4, age=16, gender=\"male\", social_contacts=123),\n",
        "    User(id=5, age=35, gender=\"female\", social_contacts=247),\n",
        "]\n",
        "\n",
        "input_collection_b = [\n",
        "    User(id=5, age=45, gender=\"female\", social_contacts=247),\n",
        "    User(id=6, age=31, gender=\"male\", social_contacts=521),\n",
        "    User(id=7, age=32, gender=\"female\", social_contacts=753),\n",
        "]\n",
        "\n",
        "\n",
        "def flatten(nested_iterable):\n",
        "    for iterable in nested_iterable:\n",
        "        for element in iterable:\n",
        "            yield element\n",
        "\n",
        "\n",
        "def groupbykey(iterable):\n",
        "    t = {}\n",
        "    for k2, v2 in iterable:\n",
        "        t[k2] = t.get(k2, []) + [v2]\n",
        "    return t.items()\n",
        "\n",
        "\n",
        "def MapReduce(RECORDREADER, MAP, REDUCE):\n",
        "    return flatten(\n",
        "        map(\n",
        "            lambda x: REDUCE(*x),\n",
        "            groupbykey(flatten(map(lambda x: MAP(*x), RECORDREADER()))),\n",
        "        )\n",
        "    )\n",
        "\n",
        "\n",
        "def RECORDREADER():\n",
        "    return [(u.id, u) for u in input_collection_a + input_collection_b]\n",
        "\n",
        "def MAP_UNION(_, row: NamedTuple):\n",
        "    yield(row.id, row)\n",
        "\n",
        "# Даже если у ключа два значения, то всё равно возращаем (t, t)\n",
        "def REDUCE_UNION(row: str, rows: Iterator[NamedTuple]):\n",
        "    for elem in rows:\n",
        "      yield(row, elem)\n",
        "\n",
        "\n",
        "output = MapReduce(RECORDREADER, MAP_UNION, REDUCE_UNION)\n",
        "output = list(output)\n",
        "output"
      ],
      "execution_count": null,
      "outputs": [
        {
          "output_type": "execute_result",
          "data": {
            "text/plain": [
              "[(1, User(id=1, age=54, social_contacts=20, gender='male')),\n",
              " (2, User(id=2, age=25, social_contacts=240, gender='female')),\n",
              " (3, User(id=3, age=27, social_contacts=642, gender='male')),\n",
              " (4, User(id=4, age=16, social_contacts=123, gender='male')),\n",
              " (5, User(id=5, age=35, social_contacts=247, gender='female')),\n",
              " (5, User(id=5, age=45, social_contacts=247, gender='female')),\n",
              " (6, User(id=6, age=31, social_contacts=521, gender='male')),\n",
              " (7, User(id=7, age=32, social_contacts=753, gender='female'))]"
            ]
          },
          "metadata": {},
          "execution_count": 28
        }
      ]
    },
    {
      "cell_type": "markdown",
      "metadata": {
        "id": "dQ8TuEbjv4J8"
      },
      "source": [
        "### Intersection (Пересечение)\n",
        "\n",
        "**The Map Function:** Превратите каждый кортеж $t$ в пары ключ-значение $(t, t)$.\n",
        "\n",
        "**The Reduce Function:** Если для ключа $t$ есть список из двух элементов $[t, t]$ $-$ создайте пару $(t, t)$. Иначе, ничего не создавайте."
      ]
    },
    {
      "cell_type": "code",
      "metadata": {
        "id": "XKlBZh4IwERR",
        "colab": {
          "base_uri": "https://localhost:8080/"
        },
        "outputId": "f0103749-3b8a-43a5-956d-13ec8a6f1ab0"
      },
      "source": [
        "input_collection_a = [\n",
        "    User(id=1, age=54, gender=\"male\", social_contacts=20),\n",
        "    User(id=2, age=25, gender=\"female\", social_contacts=240),\n",
        "    User(id=3, age=27, gender=\"male\", social_contacts=642),\n",
        "    User(id=4, age=16, gender=\"male\", social_contacts=123),\n",
        "    User(id=5, age=35, gender=\"female\", social_contacts=247),\n",
        "]\n",
        "\n",
        "input_collection_b = [\n",
        "    User(id=5, age=35, gender=\"female\", social_contacts=247),\n",
        "    User(id=4, age=16, gender=\"male\", social_contacts=123),\n",
        "    User(id=7, age=32, gender=\"female\", social_contacts=753),\n",
        "]\n",
        "\n",
        "def MAP_INTERSECTION(_, row: NamedTuple):\n",
        "    yield(row.id, row)\n",
        "\n",
        "def REDUCE_INTERSECTION(row: str, rows: Iterator[NamedTuple]):\n",
        "  if len(rows) ==2:\n",
        "    yield(rows[0], rows[1])\n",
        "\n",
        "def RECORDREADER():\n",
        "    return [(u.id, u) for u in input_collection_a + input_collection_b]\n",
        "\n",
        "output = MapReduce(RECORDREADER, MAP_INTERSECTION, REDUCE_INTERSECTION)\n",
        "output = list(output)\n",
        "output"
      ],
      "execution_count": null,
      "outputs": [
        {
          "output_type": "execute_result",
          "data": {
            "text/plain": [
              "[(User(id=4, age=16, social_contacts=123, gender='male'),\n",
              "  User(id=4, age=16, social_contacts=123, gender='male')),\n",
              " (User(id=5, age=35, social_contacts=247, gender='female'),\n",
              "  User(id=5, age=35, social_contacts=247, gender='female'))]"
            ]
          },
          "metadata": {},
          "execution_count": 29
        }
      ]
    },
    {
      "cell_type": "markdown",
      "metadata": {
        "id": "AVOpqoY3wE5k"
      },
      "source": [
        "### Difference (Разница)\n",
        "\n",
        "**The Map Function:** Для кортежа $t \\in R$, создайте пару $(t, R)$, и для кортежа $t \\in S$, создайте пару $(t, S)$. Задумка заключается в том, чтобы значение пары было именем отношения $R$ or $S$, которому принадлежит кортеж (а лучше, единичный бит, по которому можно два отношения различить $R$ or $S$), а не весь набор атрибутов отношения.\n",
        "\n",
        "**The Reduce Function:** Для каждого ключа $t$, если соответствующее значение является списком $[R]$, создайте пару $(t, t)$. В иных случаях не предпринимайте действий."
      ]
    },
    {
      "cell_type": "code",
      "metadata": {
        "id": "QE_AC09lwZIZ",
        "colab": {
          "base_uri": "https://localhost:8080/"
        },
        "outputId": "ac463d67-445d-4969-8e56-72a1aaa93801"
      },
      "source": [
        "input_collection_a = [\n",
        "    User(id=1, age=54, gender=\"male\", social_contacts=20),\n",
        "    User(id=2, age=25, gender=\"female\", social_contacts=240),\n",
        "    User(id=3, age=27, gender=\"male\", social_contacts=642),\n",
        "    User(id=4, age=16, gender=\"male\", social_contacts=123),\n",
        "    User(id=5, age=35, gender=\"female\", social_contacts=247),\n",
        "]\n",
        "\n",
        "input_collection_b = [\n",
        "    User(id=5, age=35, gender=\"female\", social_contacts=247),\n",
        "    User(id=4, age=16, gender=\"male\", social_contacts=123),\n",
        "    User(id=7, age=32, gender=\"female\", social_contacts=753),\n",
        "]\n",
        "# Группировка по пользователям\n",
        "def MAP_DIFFERENCE(collection_id, user):\n",
        "    yield (user, collection_id)\n",
        "\n",
        "\n",
        "# Возвращает пользователей, входящих только в первую выборку (и не входящих во вторую)\n",
        "def REDUCE_DIFFERENCE(user, collections):\n",
        "    if 1 not in collections:\n",
        "        yield (user)\n",
        "\n",
        "\n",
        "# На первом месте стоит номер выборки\n",
        "def RECORDREADER():\n",
        "    return [(0, a) for a in input_collection_a] + [(1, b) for b in input_collection_b]\n",
        "\n",
        "\n",
        "output = MapReduce(RECORDREADER, MAP_DIFFERENCE, REDUCE_DIFFERENCE)\n",
        "output = list(output)\n",
        "output"
      ],
      "execution_count": null,
      "outputs": [
        {
          "output_type": "execute_result",
          "data": {
            "text/plain": [
              "[User(id=1, age=54, social_contacts=20, gender='male'),\n",
              " User(id=2, age=25, social_contacts=240, gender='female'),\n",
              " User(id=3, age=27, social_contacts=642, gender='male')]"
            ]
          },
          "metadata": {},
          "execution_count": 30
        }
      ]
    },
    {
      "cell_type": "markdown",
      "metadata": {
        "id": "j8I58V2VwhSm"
      },
      "source": [
        "### Natural Join\n",
        "\n",
        "**The Map Function:** Для каждого кортежа $(a, b)$ отношения $R$, создайте пару $(b,(R, a))$. Для каждого кортежа $(b, c)$ отношения $S$, создайте пару $(b,(S, c))$.\n",
        "\n",
        "**The Reduce Function:** Каждый ключ $b$ будет асоциирован со списком пар, которые принимают форму либо $(R, a)$, либо $(S, c)$. Создайте все пары, одни, состоящие из  первого компонента $R$, а другие, из первого компонента $S$, то есть $(R, a)$ и $(S, c)$. На выходе вы получаете последовательность пар ключ-значение из списков ключей и значений. Ключ не нужен. Каждое значение, это тройка $(a, b, c)$ такая, что $(R, a)$ и $(S, c)$ это принадлежат входному списку значений."
      ]
    },
    {
      "cell_type": "code",
      "metadata": {
        "id": "yHiuuTctw86I",
        "colab": {
          "base_uri": "https://localhost:8080/"
        },
        "outputId": "237a9544-0e19-4970-c269-9a3426fd029f"
      },
      "source": [
        "class User(NamedTuple):\n",
        "    id: int\n",
        "    age: str\n",
        "    social_contacts: int\n",
        "    gender: str\n",
        "    country_id: int\n",
        "\n",
        "\n",
        "users_collection = [\n",
        "    User(id=1, age=54, gender=\"male\", social_contacts=20, country_id=1),\n",
        "    User(id=2, age=25, gender=\"female\", social_contacts=240, country_id=2),\n",
        "    User(id=3, age=27, gender=\"male\", social_contacts=642, country_id=3),\n",
        "    User(id=4, age=16, gender=\"male\", social_contacts=123, country_id=3),\n",
        "    User(id=5, age=35, gender=\"female\", social_contacts=247, country_id=4),\n",
        "]\n",
        "\n",
        "\n",
        "class Country(NamedTuple):\n",
        "    id: int\n",
        "    name: str\n",
        "\n",
        "\n",
        "countries_collection = [\n",
        "    Country(id=1, name=\"Russia\"),\n",
        "    Country(id=2, name=\"China\"),\n",
        "    Country(id=3, name=\"Britain\"),\n",
        "    Country(id=4, name=\"USA\"),\n",
        "    Country(id=5, name=\"Japan\")\n",
        "]\n",
        "\n",
        "# Группировка пользователей по id города\n",
        "def MAP_JOIN(country_id, row):\n",
        "    yield (country_id, row)\n",
        "\n",
        "\n",
        "def REDUCE_JOIN(country_id, rows):\n",
        "    users = []\n",
        "    country = None\n",
        "\n",
        "    for row in rows:\n",
        "        if type(row) is User:\n",
        "            users += [row]\n",
        "        else:\n",
        "            country = row\n",
        "\n",
        "    for row in rows:\n",
        "        if type(row) is User:\n",
        "            # Возвращает тройки (a,b,c), где a - пользователь, b - id страны, c - сама страна\n",
        "            yield (row, row.country_id, country)\n",
        "\n",
        "\n",
        "# На первом месте стоит id страны, на втором - сама страна или пользователь\n",
        "def RECORDREADER():\n",
        "    return [(user.country_id, user) for user in users_collection] + [\n",
        "        (country.id, country) for country in countries_collection\n",
        "    ]\n",
        "\n",
        "\n",
        "output = MapReduce(RECORDREADER, MAP_JOIN, REDUCE_JOIN)\n",
        "output = list(output)\n",
        "joined_data = output\n",
        "joined_data"
      ],
      "execution_count": null,
      "outputs": [
        {
          "output_type": "execute_result",
          "data": {
            "text/plain": [
              "[(User(id=1, age=54, social_contacts=20, gender='male', country_id=1),\n",
              "  1,\n",
              "  Country(id=1, name='Russia')),\n",
              " (User(id=2, age=25, social_contacts=240, gender='female', country_id=2),\n",
              "  2,\n",
              "  Country(id=2, name='China')),\n",
              " (User(id=3, age=27, social_contacts=642, gender='male', country_id=3),\n",
              "  3,\n",
              "  Country(id=3, name='Britain')),\n",
              " (User(id=4, age=16, social_contacts=123, gender='male', country_id=3),\n",
              "  3,\n",
              "  Country(id=3, name='Britain')),\n",
              " (User(id=5, age=35, social_contacts=247, gender='female', country_id=4),\n",
              "  4,\n",
              "  Country(id=4, name='USA'))]"
            ]
          },
          "metadata": {},
          "execution_count": 31
        }
      ]
    },
    {
      "cell_type": "markdown",
      "metadata": {
        "id": "kYdlr0YUxE27"
      },
      "source": [
        "### Grouping and Aggregation (Группировка и аггрегация)\n",
        "\n",
        "**The Map Function:** Для каждого кортежа $(a, b, c$) создайте пару $(a, b)$.\n",
        "\n",
        "**The Reduce Function:** Ключ представляет ту или иную группу. Примение аггрегирующую операцию $\\theta$ к списку значений $[b1, b2, . . . , bn]$ ассоциированных с ключом $a$. Возвращайте в выходной поток $(a, x)$, где $x$ результат применения  $\\theta$ к списку. Например, если $\\theta$ это $SUM$, тогда $x = b1 + b2 + · · · + bn$, а если $\\theta$ is $MAX$, тогда $x$ это максимальное из значений $b1, b2, . . . , bn$."
      ]
    },
    {
      "cell_type": "code",
      "metadata": {
        "id": "MLPckfEGxico",
        "colab": {
          "base_uri": "https://localhost:8080/"
        },
        "outputId": "1c849ab3-2f44-4eac-bdf1-2d0e99166c0c"
      },
      "source": [
        "# Группировка по id страны\n",
        "def MAP_GROUP(country_id, user, city):\n",
        "    yield (country_id, user)\n",
        "\n",
        "\n",
        "# Подсчет количества пользователей в каждой стране\n",
        "def REDUCE_GROUP(country_id, rows):\n",
        "  yield f\"country with id={country_id} has {len(rows)} user(s)\"\n",
        "\n",
        "\n",
        "def RECORDREADER():\n",
        "    return [(country_id, user, city) for user, country_id, city in joined_data]\n",
        "\n",
        "\n",
        "output = MapReduce(RECORDREADER, MAP_GROUP, REDUCE_GROUP)\n",
        "output = list(output)\n",
        "output"
      ],
      "execution_count": null,
      "outputs": [
        {
          "output_type": "execute_result",
          "data": {
            "text/plain": [
              "['country with id=1 has 1 user(s)',\n",
              " 'country with id=2 has 1 user(s)',\n",
              " 'country with id=3 has 2 user(s)',\n",
              " 'country with id=4 has 1 user(s)']"
            ]
          },
          "metadata": {},
          "execution_count": 32
        }
      ]
    },
    {
      "cell_type": "markdown",
      "metadata": {
        "id": "03IffTEOJgOb"
      },
      "source": [
        "#"
      ]
    },
    {
      "cell_type": "markdown",
      "metadata": {
        "id": "IIrRgvG4RIS4"
      },
      "source": [
        "### Matrix-Vector multiplication\n",
        "\n",
        "Случай, когда вектор не помещается в памяти Map задачи\n"
      ]
    },
    {
      "cell_type": "code",
      "metadata": {
        "id": "KQhDbiL3zS9r",
        "colab": {
          "base_uri": "https://localhost:8080/"
        },
        "outputId": "805617d3-51d8-4070-81b6-6700a0249a79"
      },
      "source": [
        "from typing import Iterator, Tuple\n",
        "\n",
        "input_matrix = [\n",
        "    (0, 0, 2), (0, 1, 3), (0, 2, 4),\n",
        "    (1, 0, 1), (1, 1, 0), (1, 2, 2),\n",
        "    (2, 0, 4), (2, 1, 1), (2, 2, 3),\n",
        "]\n",
        "\n",
        "input_vector = [\n",
        "    (0, 1), (1, 2), (2, 3)\n",
        "]\n",
        "\n",
        "\n",
        "def flatten(nested_iterable):\n",
        "    for iterable in nested_iterable:\n",
        "        for element in iterable:\n",
        "            yield element\n",
        "\n",
        "\n",
        "def groupbykey(iterable):\n",
        "    grouped = {}\n",
        "    for key, value in iterable:\n",
        "        grouped[key] = grouped.get(key, []) + [value]\n",
        "    return grouped.items()\n",
        "\n",
        "\n",
        "def MapReduce(RECORDREADER, MAP, REDUCE):\n",
        "    return flatten(\n",
        "        map(\n",
        "            lambda x: REDUCE(*x),\n",
        "            groupbykey(flatten(map(lambda x: MAP(*x), RECORDREADER()))),\n",
        "        )\n",
        "    )\n",
        "\n",
        "\n",
        "def MAP_MATRIX_VECTOR(_, matrix_row):\n",
        "    row, col, value = matrix_row\n",
        "\n",
        "    for vec_col, vec_value in input_vector:\n",
        "        if vec_col == col:\n",
        "            yield (row, value * vec_value)\n",
        "\n",
        "\n",
        "def REDUCE_MATRIX_VECTOR(row, values: Iterator[int]):\n",
        "    yield (row, sum(values))\n",
        "\n",
        "\n",
        "def RECORDREADER():\n",
        "    return [(None, m) for m in input_matrix]\n",
        "\n",
        "\n",
        "output = MapReduce(RECORDREADER, MAP_MATRIX_VECTOR, REDUCE_MATRIX_VECTOR)\n",
        "output = list(output)\n",
        "output"
      ],
      "execution_count": null,
      "outputs": [
        {
          "output_type": "execute_result",
          "data": {
            "text/plain": [
              "[(0, 20), (1, 7), (2, 15)]"
            ]
          },
          "metadata": {},
          "execution_count": 33
        }
      ]
    },
    {
      "cell_type": "markdown",
      "metadata": {
        "id": "GIo2t7nNxvA9"
      },
      "source": [
        "## Matrix multiplication (Перемножение матриц)\n",
        "\n",
        "Если у нас есть матрица $M$ с элементами $m_{ij}$ в строке $i$ и столбце $j$, и матрица $N$ с элементами $n_{jk}$ в строке $j$ и столбце $k$, тогда их произведение $P = MN$ есть матрица $P$ с элементами $p_{ik}$ в строке $i$ и столбце $k$, где\n",
        "\n",
        "$$p_{ik} =\\sum_{j} m_{ij}n_{jk}$$\n",
        "\n",
        "Необходимым требованием является одинаковое количество столбцов в $M$ и строк в $N$, чтобы операция суммирования по  $j$ была осмысленной. Мы можем размышлять о матрице, как об отношении с тремя атрибутами: номер строки, номер столбца, само значение. Таким образом матрица $M$ предстваляется как отношение $ M(I, J, V )$, с кортежами $(i, j, m_{ij})$, и, аналогично, матрица $N$ представляется как отношение $N(J, K, W)$, с кортежами $(j, k, n_{jk})$. Так как большие матрицы как правило разреженные (большинство значений равно 0), и так как мы можем нулевыми значениями пренебречь (не хранить), такое реляционное представление достаточно эффективно для больших матриц. Однако, возможно, что координаты $i$, $j$, и $k$ неявно закодированы в смещение позиции элемента относительно начала файла, вместо явного хранения. Тогда, функция Map (или Reader) должна быть разработана таким образом, чтобы реконструировать компоненты $I$, $J$, и $K$ кортежей из смещения.\n",
        "\n",
        "Произведение $MN$ это фактически join, за которым следуют группировка по ключу и аггрегация. Таким образом join отношений $M(I, J, V )$ и $N(J, K, W)$, имеющих общим только атрибут $J$, создаст кортежи $(i, j, k, v, w)$ из каждого кортежа $(i, j, v) \\in M$ и кортежа $(j, k, w) \\in N$. Такой 5 компонентный кортеж представляет пару элементов матрицы $(m_{ij} , n_{jk})$. Что нам хотелось бы получить на самом деле, это произведение этих элементов, то есть, 4 компонентный кортеж$(i, j, k, v \\times w)$, так как он представляет произведение $m_{ij}n_{jk}$. Мы представляем отношение как результат одной MapReduce операции, в которой мы можем произвести группировку и аггрегацию, с $I$ и $K$  атрибутами, по которым идёт группировка, и суммой  $V \\times W$.\n",
        "\n",
        "\n",
        "\n"
      ]
    },
    {
      "cell_type": "code",
      "metadata": {
        "id": "1MBkGaLAYVCt"
      },
      "source": [
        "# MapReduce model\n",
        "def flatten(nested_iterable):\n",
        "  for iterable in nested_iterable:\n",
        "    for element in iterable:\n",
        "      yield element\n",
        "\n",
        "def groupbykey(iterable):\n",
        "  t = {}\n",
        "  for (k2, v2) in iterable:\n",
        "    t[k2] = t.get(k2, []) + [v2]\n",
        "  return t.items()\n",
        "\n",
        "def MapReduce(RECORDREADER, MAP, REDUCE):\n",
        "  return flatten(map(lambda x: REDUCE(*x), groupbykey(flatten(map(lambda x: MAP(*x), RECORDREADER())))))"
      ],
      "execution_count": null,
      "outputs": []
    },
    {
      "cell_type": "markdown",
      "metadata": {
        "id": "sMspsOT0ZB35"
      },
      "source": [
        "Реализуйте перемножение матриц с использованием модельного кода MapReduce для одной машины в случае, когда одна матрица хранится в памяти, а другая генерируется RECORDREADER-ом."
      ]
    },
    {
      "cell_type": "code",
      "metadata": {
        "id": "psP1XekbsEjS"
      },
      "source": [
        "import numpy as np\n",
        "I = 2\n",
        "J = 3\n",
        "K = 4*10\n",
        "small_mat = np.random.rand(I,J) # it is legal to access this from RECORDREADER, MAP, REDUCE\n",
        "big_mat = np.random.rand(J,K)\n",
        "\n",
        "def RECORDREADER():\n",
        "  for j in range(big_mat.shape[0]):\n",
        "    for k in range(big_mat.shape[1]):\n",
        "      yield ((j,k), big_mat[j,k])\n",
        "\n",
        "def MAP(k1, v1):\n",
        "  (j, k) = k1\n",
        "  w = v1\n",
        "  # solution code that yield(k2,v2) pairs\n",
        "  for i in range(I):\n",
        "        k2 = (i, k)\n",
        "        v2 = small_mat[i, j] * w\n",
        "        yield (k2, v2)\n",
        "\n",
        "def REDUCE(key, values):\n",
        "  (i, k) = key\n",
        "  # solution code that yield(k3,v3) pairs\n",
        "  k3 = (i, k)\n",
        "  v3 = sum(values)\n",
        "\n",
        "  yield (k3, v3)"
      ],
      "execution_count": null,
      "outputs": []
    },
    {
      "cell_type": "markdown",
      "metadata": {
        "id": "rnt306LHhHrm"
      },
      "source": [
        "Проверьте своё решение"
      ]
    },
    {
      "cell_type": "code",
      "metadata": {
        "id": "Ewy_ZNYqW5a2",
        "colab": {
          "base_uri": "https://localhost:8080/"
        },
        "outputId": "dd2a76ed-7be6-4c08-c1f3-c97e15d03716"
      },
      "source": [
        "# CHECK THE SOLUTION\n",
        "reference_solution = np.matmul(small_mat, big_mat)\n",
        "solution = MapReduce(RECORDREADER, MAP, REDUCE)\n",
        "\n",
        "def asmatrix(reduce_output):\n",
        "  reduce_output = list(reduce_output)\n",
        "  I = max(i for ((i,k), vw) in reduce_output)+1\n",
        "  K = max(k for ((i,k), vw) in reduce_output)+1\n",
        "  mat = np.empty(shape=(I,K))\n",
        "  for ((i,k), vw) in reduce_output:\n",
        "    mat[i,k] = vw\n",
        "  return mat\n",
        "\n",
        "np.allclose(reference_solution, asmatrix(solution)) # should return true"
      ],
      "execution_count": null,
      "outputs": [
        {
          "output_type": "execute_result",
          "data": {
            "text/plain": [
              "True"
            ]
          },
          "metadata": {},
          "execution_count": 36
        }
      ]
    },
    {
      "cell_type": "code",
      "metadata": {
        "id": "TK7v4CEcfxqf",
        "colab": {
          "base_uri": "https://localhost:8080/"
        },
        "outputId": "1337e1b5-1aa4-486e-b80d-cc431d79d0aa"
      },
      "source": [
        "reduce_output = list(MapReduce(RECORDREADER, MAP, REDUCE))\n",
        "max(i for ((i,k), vw) in reduce_output)"
      ],
      "execution_count": null,
      "outputs": [
        {
          "output_type": "execute_result",
          "data": {
            "text/plain": [
              "1"
            ]
          },
          "metadata": {},
          "execution_count": 37
        }
      ]
    },
    {
      "cell_type": "markdown",
      "metadata": {
        "id": "i4yyg3kOZqJJ"
      },
      "source": [
        "Реализуйте перемножение матриц  с использованием модельного кода MapReduce для одной машины в случае, когда обе матрицы генерируются в RECORDREADER. Например, сначала одна, а потом другая."
      ]
    },
    {
      "cell_type": "code",
      "metadata": {
        "id": "3B7rIAJCaHZq",
        "colab": {
          "base_uri": "https://localhost:8080/"
        },
        "outputId": "93d22235-d24b-4ac9-e871-6f6fcc3b4453"
      },
      "source": [
        "I = 2\n",
        "J = 3\n",
        "K = 4 * 10\n",
        "small_mat = np.random.rand(I, J)\n",
        "big_mat = np.random.rand(J, K)\n",
        "\n",
        "\n",
        "def RECORDREADER(): # сразу создаются две матрицы\n",
        "    for i in range(I):\n",
        "        for j in range(J):\n",
        "            for k in range(K):\n",
        "                yield (((i, j), small_mat[i, j]), ((j, k), big_mat[j, k]))\n",
        "\n",
        "\n",
        "def MAP(element1, element2):\n",
        "    (i, j), v1 = element1\n",
        "    (j, k), v2 = element2\n",
        "\n",
        "    yield ((i, k), v1 * v2)\n",
        "\n",
        "\n",
        "def REDUCE(key, values):\n",
        "    (i, k) = key\n",
        "\n",
        "    # solution code that yield(k3,v3) pairs\n",
        "    k3 = (i, k)\n",
        "    v3 = sum(values)\n",
        "\n",
        "    yield (k3, v3)\n",
        "\n",
        "# CHECK THE SOLUTION\n",
        "reference_solution = np.matmul(small_mat, big_mat)\n",
        "solution = MapReduce(RECORDREADER, MAP, REDUCE)\n",
        "\n",
        "\n",
        "def asmatrix(reduce_output):\n",
        "    reduce_output = list(reduce_output)\n",
        "    I = max(i for ((i, k), vw) in reduce_output) + 1\n",
        "    K = max(k for ((i, k), vw) in reduce_output) + 1\n",
        "    mat = np.empty(shape=(I, K))\n",
        "    for (i, k), vw in reduce_output:\n",
        "        mat[i, k] = vw\n",
        "    return mat\n",
        "\n",
        "\n",
        "np.allclose(reference_solution, asmatrix(solution))  # should return true"
      ],
      "execution_count": null,
      "outputs": [
        {
          "output_type": "execute_result",
          "data": {
            "text/plain": [
              "True"
            ]
          },
          "metadata": {},
          "execution_count": 38
        }
      ]
    },
    {
      "cell_type": "markdown",
      "metadata": {
        "id": "mXyzQi1DaIwo"
      },
      "source": [
        "Реализуйте перемножение матриц с использованием модельного кода MapReduce Distributed, когда каждая матрица генерируется в своём RECORDREADER."
      ]
    },
    {
      "cell_type": "code",
      "metadata": {
        "id": "TDM_s78Rb5eR",
        "colab": {
          "base_uri": "https://localhost:8080/"
        },
        "outputId": "b01c434d-a274-470d-a38e-8cad0f5310bf"
      },
      "source": [
        "maps = 2\n",
        "reducers = 2\n",
        "\n",
        "\n",
        "def INPUTFORMAT():\n",
        "    global maps\n",
        "\n",
        "    def RECORDREADER(i_range):\n",
        "        for i in i_range:\n",
        "            for j in range(J):\n",
        "                for k in range(K):\n",
        "                    yield (((i, j), small_mat[i, j]), ((j, k), big_mat[j, k]))\n",
        "\n",
        "    # Разделение между вычислительными узлами происходит по строкам первой матрицы\n",
        "    split_size = int(np.ceil(I / maps))\n",
        "    for i in range(0, I, split_size):\n",
        "        yield RECORDREADER(range(i, i + split_size))\n",
        "\n",
        "\n",
        "\n",
        "def MAP(element1, element2):\n",
        "    (i, j), v1 = element1\n",
        "    (j, k), v2 = element2\n",
        "\n",
        "    yield ((i, k), v1 * v2)\n",
        "\n",
        "\n",
        "def REDUCE(key, values):\n",
        "    (i, k) = key\n",
        "    k3 = (i, k)\n",
        "    v3 = sum(values)\n",
        "\n",
        "    yield (k3, v3)\n",
        "\n",
        "\n",
        "\n",
        "partitioned_output = MapReduceDistributed(INPUTFORMAT, MAP, REDUCE, COMBINER=None)\n",
        "partitioned_output = [\n",
        "    (partition_id, list(partition)) for (partition_id, partition) in partitioned_output\n",
        "]\n",
        "\n",
        "# Соединение полученных произведений с разных вычислительных узлов\n",
        "solution = []\n",
        "for output_part in partitioned_output:\n",
        "    for element in output_part[1]:\n",
        "        solution += [element]\n",
        "\n",
        "print(asmatrix(solution))\n",
        "np.allclose(reference_solution, asmatrix(solution))  # should return true"
      ],
      "execution_count": null,
      "outputs": [
        {
          "output_type": "stream",
          "name": "stdout",
          "text": [
            "240 key-value pairs were sent over a network.\n",
            "[[0.81520692 0.88162159 0.90032296 0.28857278 0.26946805 0.98459533\n",
            "  0.75941064 0.40073806 0.89168829 0.30337428 0.70174424 0.41807651\n",
            "  0.05621778 0.72475418 0.47595954 0.32902394 0.28049652 0.88482583\n",
            "  0.8674399  0.38296455 0.37786349 0.90616871 0.74925225 0.64218382\n",
            "  0.3649871  0.36442826 0.630104   0.31259367 0.81532425 0.3279877\n",
            "  0.61885258 0.3428322  0.42281932 0.79514718 0.12993166 0.79852618\n",
            "  0.96307109 0.92805403 0.38085864 0.60323413]\n",
            " [0.86262706 1.08003236 1.29509445 1.0095528  1.10589525 1.15880175\n",
            "  0.50170168 0.28302637 1.38592622 0.58941663 1.17739001 0.40661761\n",
            "  0.46542704 0.89519349 0.24586385 0.90436225 0.91289776 1.37719451\n",
            "  0.92993251 1.1222029  1.09482906 1.2824293  0.58568148 0.45803376\n",
            "  1.23579614 1.10658557 0.29895987 0.98517118 1.00159722 0.433037\n",
            "  0.491353   1.01685584 0.95493181 0.94769337 0.81568369 0.48710324\n",
            "  0.97720405 1.0689345  0.27227473 0.86807685]]\n"
          ]
        },
        {
          "output_type": "execute_result",
          "data": {
            "text/plain": [
              "True"
            ]
          },
          "metadata": {},
          "execution_count": 39
        }
      ]
    },
    {
      "cell_type": "markdown",
      "metadata": {
        "id": "ZuSA2P9Db6UM"
      },
      "source": [
        "Обобщите предыдущее решение на случай, когда каждая матрица генерируется несколькими RECORDREADER-ами, и проверьте его работоспособность. Будет ли работать решение, если RECORDREADER-ы будут генерировать случайное подмножество элементов матрицы?"
      ]
    },
    {
      "cell_type": "markdown",
      "source": [
        "Решение работать будет, поскольку генерируемые RECORREADER-ами элементы идентифицируются индексами матрицы."
      ],
      "metadata": {
        "id": "JAiIRMJfrlO_"
      }
    }
  ]
}